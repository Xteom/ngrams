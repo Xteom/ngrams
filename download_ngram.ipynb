{
 "cells": [
  {
   "cell_type": "code",
   "execution_count": 1,
   "metadata": {},
   "outputs": [
    {
     "name": "stdout",
     "output_type": "stream",
     "text": [
      "Requirement already satisfied: requests in c:\\users\\malfa\\anaconda3\\envs\\ngram\\lib\\site-packages (2.31.0)\n",
      "Requirement already satisfied: charset-normalizer<4,>=2 in c:\\users\\malfa\\anaconda3\\envs\\ngram\\lib\\site-packages (from requests) (3.3.2)\n",
      "Requirement already satisfied: idna<4,>=2.5 in c:\\users\\malfa\\anaconda3\\envs\\ngram\\lib\\site-packages (from requests) (3.6)\n",
      "Requirement already satisfied: urllib3<3,>=1.21.1 in c:\\users\\malfa\\anaconda3\\envs\\ngram\\lib\\site-packages (from requests) (2.2.1)\n",
      "Requirement already satisfied: certifi>=2017.4.17 in c:\\users\\malfa\\anaconda3\\envs\\ngram\\lib\\site-packages (from requests) (2024.2.2)\n",
      "Note: you may need to restart the kernel to use updated packages.\n"
     ]
    }
   ],
   "source": [
    "%pip install requests"
   ]
  },
  {
   "cell_type": "code",
   "execution_count": null,
   "metadata": {},
   "outputs": [
    {
     "name": "stdout",
     "output_type": "stream",
     "text": [
      "th\n"
     ]
    }
   ],
   "source": [
    "ngram_list = \"th tu uk us ve ye zi\"\n",
    "ngram_list = ngram_list.split()\n",
    "# clean up the ngram list, remove ' from strings\n",
    "# ngram_list = [x.replace(\"'\", \"\") for x in ngram_list]\n",
    "print(ngram_list[0])"
   ]
  },
  {
   "cell_type": "code",
   "execution_count": 8,
   "metadata": {},
   "outputs": [],
   "source": [
    "import requests\n",
    "import gzip\n",
    "import shutil\n",
    "import os\n",
    "\n",
    "# The base URL for the files\n",
    "base_url = \"http://storage.googleapis.com/books/ngrams/books/googlebooks-eng-all-5gram-20120701-{}.gz\"\n",
    "\n",
    "# The list of all suffixes for the files to download\n",
    "suffixes = ngram_list\n",
    "\n",
    "# Directory to save the downloaded .gz files\n",
    "download_dir = \"downloaded_ngrams\"\n",
    "os.makedirs(download_dir, exist_ok=True)\n",
    "\n",
    "# Directory to save the decompressed files\n",
    "ngrams_dir = \"ngrams\"\n",
    "os.makedirs(ngrams_dir, exist_ok=True)\n",
    "\n",
    "def download_and_decompress(suffix):\n",
    "    url = base_url.format(suffix)\n",
    "    local_filename = url.split('/')[-1]\n",
    "    path_to_save = os.path.join(download_dir, local_filename)\n",
    "    \n",
    "    # Download the file\n",
    "    with requests.get(url, stream=True) as r:\n",
    "        r.raise_for_status()\n",
    "        with open(path_to_save, 'wb') as f:\n",
    "            for chunk in r.iter_content(chunk_size=8192):\n",
    "                f.write(chunk)\n",
    "    \n",
    "    # Decompress the file\n",
    "    with gzip.open(path_to_save, 'rb') as f_in:\n",
    "        decompressed_path = os.path.join(ngrams_dir, local_filename[:-3])\n",
    "        with open(decompressed_path, 'wb') as f_out:\n",
    "            shutil.copyfileobj(f_in, f_out)\n",
    "    \n",
    "    # Remove the compressed file to save space\n",
    "    os.remove(path_to_save)\n",
    "\n",
    "# Loop over all suffixes and process each file\n",
    "for suffix in suffixes:\n",
    "    download_and_decompress(suffix)\n",
    "    print(f\"Completed: {suffix}\")\n",
    "\n",
    "print(\"All files have been downloaded and decompressed.\")"
   ]
  }
 ],
 "metadata": {
  "kernelspec": {
   "display_name": "Ngram",
   "language": "python",
   "name": "python3"
  },
  "language_info": {
   "codemirror_mode": {
    "name": "ipython",
    "version": 3
   },
   "file_extension": ".py",
   "mimetype": "text/x-python",
   "name": "python",
   "nbconvert_exporter": "python",
   "pygments_lexer": "ipython3",
   "version": "3.8.19"
  }
 },
 "nbformat": 4,
 "nbformat_minor": 2
}
